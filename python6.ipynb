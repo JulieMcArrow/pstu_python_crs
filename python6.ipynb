{
 "cells": [
  {
   "cell_type": "code",
   "execution_count": 64,
   "metadata": {},
   "outputs": [
    {
     "name": "stdout",
     "output_type": "stream",
     "text": [
      "Введите имя: Роман\n",
      "Рост больше или равен: 178\n"
     ]
    },
    {
     "data": {
      "text/plain": [
       "[['Роман', '20', '180']]"
      ]
     },
     "execution_count": 64,
     "metadata": {},
     "output_type": "execute_result"
    }
   ],
   "source": [
    "from pprint import pprint\n",
    "class Person:\n",
    "    def __init__(self, name, age, height):\n",
    "        self.name, self.age, self. height = name, age, height\n",
    "        self.key = name\n",
    "    def __repr__(self):\n",
    "        return \"['%s', '%s', '%s']\" % (self.name, self.age, self.height)\n",
    "Lena = Person(\"Елена\", 21, 165)\n",
    "Anna = Person(\"Анна\", 19, 171)\n",
    "Dima = Person(\"Дмитрий\", 27, 178)\n",
    "Roma = Person(\"Роман\", 20, 180)\n",
    "Valya = Person(\"Валентин\", 32, 183)\n",
    "Anna2 = Person(\"Анна\", 29, 166)\n",
    "Mark = Person(\"Марк\", 19, 171)\n",
    "Dima2 = Person(\"Дмитрий\", 27, 183)\n",
    "Roma2 = Person(\"Роман\", 19, 173)\n",
    "Valya2 = Person(\"Валерий\", 45, 177)\n",
    "Anya3 = Person(\"Аня\", 15, 159)\n",
    "people = [Lena, Anna, Dima, Roma, Valya, Anna2, Mark, Dima2, Roma2, Valya2, Anya3]\n",
    "\n",
    "#поиск по имени и росту людей\n",
    "def list_search(people):\n",
    "    a = input(\"Введите имя: \")\n",
    "    b = int(input(\"Рост больше или равен: \"))\n",
    "    res = []\n",
    "    i = 0\n",
    "    while i < len(people):\n",
    "        if getattr(people[i], 'name') == a and getattr(people[i], 'height') >= b:\n",
    "            res.append(people[i])\n",
    "        i+=1\n",
    "    return res\n",
    "list_search(people)"
   ]
  },
  {
   "cell_type": "code",
   "execution_count": 28,
   "metadata": {},
   "outputs": [
    {
     "name": "stdout",
     "output_type": "stream",
     "text": [
      "Введите имя: Роман\n",
      "Рост больше или равен: 170\n"
     ]
    },
    {
     "data": {
      "text/plain": [
       "[['Роман', '20', '180']]"
      ]
     },
     "execution_count": 28,
     "metadata": {},
     "output_type": "execute_result"
    }
   ],
   "source": [
    "list_search(people)"
   ]
  },
  {
   "cell_type": "code",
   "execution_count": 68,
   "metadata": {},
   "outputs": [
    {
     "name": "stdout",
     "output_type": "stream",
     "text": [
      "[75, 57, 86, 33, 57, 29, 67, 60, 29, 86]\n"
     ]
    }
   ],
   "source": [
    "# Исследование коэффициентов совпадений имени и различных вариантов его написания \n",
    "import fuzzywuzzy\n",
    "from fuzzywuzzy import fuzz\n",
    "from fuzzywuzzy import process\n",
    "r = [fuzz.ratio('Анна','анна'), fuzz.ratio('Анна','ана'), fuzz.ratio('Анна','Ана') , fuzz.ratio('Анна','ан'), \n",
    "     fuzz.ratio('Анна','Аня'), fuzz.ratio('Анна','аня'), fuzz.ratio('Анна','Ан'), fuzz.ratio('Анна','Анжела'), \n",
    "     fuzz.ratio('Анна','аНн'), fuzz.ratio('Анна','нна')]\n",
    "print(r)"
   ]
  },
  {
   "cell_type": "code",
   "execution_count": 69,
   "metadata": {},
   "outputs": [
    {
     "name": "stdout",
     "output_type": "stream",
     "text": [
      "Введите имя: валеи\n",
      "Рост примерно равен (+/- 5 см): 180\n"
     ]
    },
    {
     "data": {
      "text/plain": [
       "[['Валентин', '32', '183'], ['Валерий', '45', '177']]"
      ]
     },
     "execution_count": 69,
     "metadata": {},
     "output_type": "execute_result"
    }
   ],
   "source": [
    "#Нечеткий поиск по имени и росту\n",
    "#Индекс нечеткого сравнения 60 определен интуитивно путем применения функции \n",
    "# к имени и различным вариантам написания с опечатками\n",
    "import fuzzywuzzy\n",
    "from fuzzywuzzy import fuzz\n",
    "from fuzzywuzzy import process\n",
    "def fuzzy_search(people):\n",
    "    a = input(\"Введите имя: \")\n",
    "    b = int(input(\"Рост примерно равен (+/- 5 см): \"))\n",
    "    res = []\n",
    "    i = 0\n",
    "    while i < len(people):\n",
    "        if fuzz.ratio(getattr(people[i], 'name'), a) >=60 and getattr(people[i], 'height') in range(b-5, b+6):\n",
    "            res.append(people[i])\n",
    "        i+=1\n",
    "    return res\n",
    "fuzzy_search(people)"
   ]
  }
 ],
 "metadata": {
  "kernelspec": {
   "display_name": "Python 3",
   "language": "python",
   "name": "python3"
  },
  "language_info": {
   "codemirror_mode": {
    "name": "ipython",
    "version": 3
   },
   "file_extension": ".py",
   "mimetype": "text/x-python",
   "name": "python",
   "nbconvert_exporter": "python",
   "pygments_lexer": "ipython3",
   "version": "3.7.6"
  }
 },
 "nbformat": 4,
 "nbformat_minor": 4
}
